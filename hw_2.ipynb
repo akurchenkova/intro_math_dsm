{
 "cells": [
  {
   "cell_type": "markdown",
   "metadata": {},
   "source": [
    "## Тема 2. Тема “Элементарная алгебра”"
   ]
  },
  {
   "cell_type": "markdown",
   "metadata": {},
   "source": [
    "**1. Задание**  \n",
    "Напишите уравнение параболы, проходящей через три точки (x,y):  \n",
    "(1,2), (3,10), (5,1)  "
   ]
  },
  {
   "cell_type": "markdown",
   "metadata": {},
   "source": [
    "уравнение параболы: $ ax^2 + bx + c $  \n",
    "\\begin{equation*}\n",
    " \\begin{cases}\n",
    "a + b + c = 2  \\\\  \n",
    "9a + 3b + c = 10  \\\\  \n",
    "25a + 5b + c = 1  \\\\ \n",
    " \\end{cases}\n",
    "\\end{equation*}"
   ]
  },
  {
   "cell_type": "markdown",
   "metadata": {},
   "source": [
    "\\begin{equation*}\n",
    " \\begin{cases}\n",
    "3a + 3b + 3c = 6  \\\\  \n",
    "6a + 0 -2c = 4  \\\\  \n",
    "25a + 5b + c = 1  \\\\ \n",
    " \\end{cases}\n",
    "\\end{equation*}\n",
    "\n",
    "\\begin{equation*}\n",
    " \\begin{cases}\n",
    "3a + 3b + 3c = 6  \\\\  \n",
    "3a - c = 2  \\\\  \n",
    "25a + 5b + c = 1  \\\\ \n",
    " \\end{cases}\n",
    "\\end{equation*}\n",
    "\n",
    "\\begin{equation*}\n",
    " \\begin{cases}\n",
    "3a + 3b + 3c = 6  \\\\  \n",
    "c = 3a - 2  \\\\  \n",
    "25a + 5b + c = 1  \\\\ \n",
    " \\end{cases}\n",
    "\\end{equation*}\n",
    "\n",
    "\\begin{equation*}\n",
    " \\begin{cases}\n",
    "a + b + 3a - 2 = 2  \\\\  \n",
    "c = 3a - 2  \\\\  \n",
    "25a + 5b + c = 1  \\\\ \n",
    " \\end{cases}\n",
    "\\end{equation*}\n",
    "\n",
    "\\begin{equation*}\n",
    " \\begin{cases}\n",
    "4a + b = 4  \\\\  \n",
    "c = 3a - 2  \\\\  \n",
    "25a + 5b + c = 1  \\\\ \n",
    " \\end{cases}\n",
    "\\end{equation*}\n",
    "\n",
    "\\begin{equation*}\n",
    " \\begin{cases}\n",
    "b = 4 - 4a  \\\\  \n",
    "c = 3a - 2  \\\\  \n",
    "25a + 5b + c = 1  \\\\ \n",
    " \\end{cases}\n",
    "\\end{equation*}\n",
    "\n",
    "\\begin{equation*}\n",
    " \\begin{cases}\n",
    "b = 4 - 4a  \\\\  \n",
    "c = 3a - 2  \\\\  \n",
    "25a + 5 * (4 - 4a) + 3a - 2 = 1  \\\\ \n",
    " \\end{cases}\n",
    "\\end{equation*}\n",
    "\n",
    "\\begin{equation*}\n",
    " \\begin{cases}\n",
    "b = 4 - 4a  \\\\  \n",
    "c = 3a - 2  \\\\  \n",
    "25a - 20a + 3a = 1 - 20 + 2  \\\\ \n",
    " \\end{cases}\n",
    "\\end{equation*}\n",
    "\n",
    "\\begin{equation*}\n",
    " \\begin{cases}\n",
    "b = 4 - 4a  \\\\  \n",
    "c = 3a - 2  \\\\  \n",
    "8a = -17  \\\\ \n",
    " \\end{cases}\n",
    "\\end{equation*}\n",
    "\n",
    "\\begin{equation*}\n",
    " \\begin{cases}\n",
    "b = 4 - 4a  \\\\  \n",
    "c = 3a - 2  \\\\  \n",
    "a = -\\frac{17}{8} \\\\ \n",
    " \\end{cases}\n",
    "\\end{equation*}\n",
    "\n",
    "\\begin{equation*}\n",
    " \\begin{cases}\n",
    "a = \\frac{-17}{8} \\\\\n",
    "b = 4 - 4 * -\\frac{17}{8} \\\\  \\\\  \n",
    "c = 3 * -\\frac{17}{8}  - 2  \\\\  \n",
    " \\end{cases}\n",
    "\\end{equation*}\n",
    "\n",
    "\\begin{equation*}\n",
    " \\begin{cases}\n",
    "a = \\frac{-17}{8} \\\\\n",
    "b = \\frac{8}{2} + \\frac{(-17 * -4)}{2 * 4 * 1} \\\\  \\\\  \n",
    "c = -\\frac{17 * 3}{8} - \\frac{16}{8}  \\\\  \n",
    " \\end{cases}\n",
    "\\end{equation*}\n",
    "\n",
    "\\begin{equation*}\n",
    " \\begin{cases}\n",
    "a = \\frac{-17}{8} \\\\\n",
    "b = \\frac{8 + 17}{2} \\\\  \\\\  \n",
    "c = \\frac{(-51 - 16)}{8}\\\\  \n",
    " \\end{cases}\n",
    "\\end{equation*}\n",
    "\n",
    "\\begin{equation*}\n",
    " \\begin{cases}\n",
    "a = \\frac{-17}{8} \\\\\n",
    "b = \\frac{25}{2} \\\\  \\\\  \n",
    "c = -\\frac{67}{8}\\\\  \n",
    " \\end{cases}\n",
    "\\end{equation*}"
   ]
  },
  {
   "cell_type": "markdown",
   "metadata": {},
   "source": [
    "Уравнение искомой параболы: $ -\\frac{17}{8} x^2 + \\frac{25}{2} x - \\frac{67}{8} $ или $-2.125х^2+12.5x-8.375$"
   ]
  },
  {
   "cell_type": "markdown",
   "metadata": {},
   "source": [
    "**2. Задание**  \n",
    "Известно, что свежий огурец на 99% состоит из воды. Месяц назад взвесили мешок со свежими огурцами. Получилось, что огурцов ровно 100 кг. Мешок убрали, а через месяц снова взвесили. Огурцы за это время усохли, и теперь вода составляет уже только 98% их веса. Сколько теперь (в кг) весят огурцы?"
   ]
  },
  {
   "cell_type": "markdown",
   "metadata": {},
   "source": [
    "Вес огурцов 100кг или 100%\n",
    "100%-99%=1% или 1кг - сухой массы. В второе взвешивание этот 1 кг составляет уже 2%.\n",
    "х - новая масса огурцов, равная 100%,  x = 100/2 = 50 \n",
    "Ответ: 50 кг."
   ]
  },
  {
   "cell_type": "markdown",
   "metadata": {},
   "source": [
    "**3. Задание**  \n",
    "Определение логарифма. Решить уравнения:  \n",
    "\n",
    "1. $ 2^x = 256 $, $x =log_{2}256$, $x = 8$\n",
    "2. $ 2^x = 300 $, $ x =log_{2}300 =log_{2}(4*25*3) = 2 + log_{2}5^2 + log_{2}3 = 2 + 2log_{2}5 + log_{2}3 $,  ... $x= 8.228818690495881$\n",
    "3. $ log_{8}2^{8x-4}=4 $,  $ (8x-4)log_{8}2=4 $ , $ (8x-4)log_{2^3}2=4 $, $ (8x-4)\\frac{1}{3}=4 $, $ \\frac{8x-4}{3}=\\frac{12}{3} $,  $8x-4 = 12$, $ x = 2$  \n",
    "ОДЗ: $ 2^{8x-4} > 0$, при люб х \n",
    "4. $ 3^{log_{9}(5x-5)}=5 $, $ log_{3^2}(5x-5) = log_{3}5 $, $ \\frac{1}{2}log_{3}(5x-5) = log_{3}5$, $ log_{3}(5x-5) = 2log_{3}5$, $ log_{3}(5x-5) = log_{3}5^2$, $ 5x-5 = 25$, $ x = 30 / 5 = 6$  \n",
    "ОДЗ: x > 1\n",
    "5. $ x^{log_{3}x+1}=9 $, $ log_{3}x^{log_{3}x+1}=log_{3}3^2 $, $(log_{3}x+1)log_{3}x = 2 $  \n",
    "ОДЗ: х > 0  \n",
    "\n",
    "$ log_{3}x = a $, $ a^2 + a - 2 = 0 $, $ D = 9 $, $ a_{1} = 1, a_{2} = -2$  \n",
    "$ a_{1} = 1, log_{3}x = 1, x= 3 $    \n",
    "$ a_{2} = -2, log_{3}x = -2, 3^{-2}= х , х = \\frac{1}{9}$ \n",
    "$ Ответ: х_{1} = \\frac{1}{9}, х_{2} = 3$ "
   ]
  },
  {
   "cell_type": "markdown",
   "metadata": {},
   "source": [
    "**4. Задание**  \n",
    "Свойства логарифмов. Вычислить:\n"
   ]
  },
  {
   "cell_type": "markdown",
   "metadata": {},
   "source": [
    "6. $ log_{4}16= log_{4}4^2=2 $\n",
    "7. $ log_{5}\\frac{1}{25}= log_{5}5^{-2}=-2 $\n",
    "8. $ log_{25}5 = \\frac{1}{2}log_{5}5=\\frac{1}{2}$\n",
    "9. $ log_{3}\\sqrt27 = log_{3}27^{\\frac{1}{2}} = log_{3}3^{\\frac{3}{2}} = 1.5$\n",
    "10. $ log_{2}12-log_{2}3 = log_{2}\\frac{12}{3} = 2 $\n",
    "11. $ log_{6}12+log_{6}3 = log_{6}36 = 2$\n",
    "12. $ e^{ln 5}= 5 $  Основное логарифмическое тождество  \n",
    "13. $ \\frac{log_{2}225}{log_{2}15} = log_{15}225 = 2$\n",
    "14. $ log_{4}32+log_{0.1}10 = log_{4}32 - 1 = log_{4}32 - log_{4}4 = log_{4}\\frac{32}{4} = log_{4}8 = \\frac{log_{2}8}{log_{2}4} = \\frac{3}{2}$\n",
    "5. $ 9^{log_{3}\\sqrt5}= (3^2)^{log_{3}\\sqrt5} = 3^{log_{3}\\sqrt5^2} = 5$"
   ]
  },
  {
   "cell_type": "code",
   "execution_count": null,
   "metadata": {},
   "outputs": [],
   "source": []
  }
 ],
 "metadata": {
  "kernelspec": {
   "display_name": "Python 3",
   "language": "python",
   "name": "python3"
  },
  "language_info": {
   "codemirror_mode": {
    "name": "ipython",
    "version": 3
   },
   "file_extension": ".py",
   "mimetype": "text/x-python",
   "name": "python",
   "nbconvert_exporter": "python",
   "pygments_lexer": "ipython3",
   "version": "3.8.6"
  }
 },
 "nbformat": 4,
 "nbformat_minor": 4
}
